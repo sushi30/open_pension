{
 "cells": [
  {
   "cell_type": "code",
   "execution_count": 1,
   "metadata": {},
   "outputs": [],
   "source": [
    "%load_ext blackcellmagic\n",
    "%load_ext autoreload\n",
    "%autoreload 2"
   ]
  },
  {
   "cell_type": "code",
   "execution_count": 2,
   "metadata": {},
   "outputs": [],
   "source": [
    "import pandas as pd\n",
    "import process_report"
   ]
  },
  {
   "cell_type": "code",
   "execution_count": 57,
   "metadata": {},
   "outputs": [],
   "source": [
    "df = pd.read_excel(\"test_data/epsilon_20191104.xlsx\")"
   ]
  },
  {
   "cell_type": "code",
   "execution_count": 51,
   "metadata": {},
   "outputs": [],
   "source": [
    "schemas = process_report.get_schemas()"
   ]
  },
  {
   "cell_type": "code",
   "execution_count": 52,
   "metadata": {},
   "outputs": [
    {
     "data": {
      "text/plain": [
       "['schema_description',\n",
       " 'assets',\n",
       " 'info',\n",
       " 'price',\n",
       " 'id',\n",
       " 'asset_country',\n",
       " 'market_type',\n",
       " 'currency',\n",
       " 'rating_agency',\n",
       " 'financial_institution',\n",
       " 'anchor_interest',\n",
       " 'anchor_interest_duration',\n",
       " 'origin_country']"
      ]
     },
     "execution_count": 52,
     "metadata": {},
     "output_type": "execute_result"
    }
   ],
   "source": [
    "list(schemas.keys())"
   ]
  },
  {
   "cell_type": "code",
   "execution_count": 58,
   "metadata": {},
   "outputs": [],
   "source": [
    "schema_positions = {\n",
    "    \"assets\": 3,\n",
    "    \"id\": 5,\n",
    "    \"origin_country\": 20,\n",
    "    \"rating_agency\": 22,\n",
    "    \"financial_institution\": 23\n",
    "}"
   ]
  },
  {
   "cell_type": "code",
   "execution_count": 59,
   "metadata": {},
   "outputs": [
    {
     "data": {
      "text/plain": [
       "5"
      ]
     },
     "execution_count": 59,
     "metadata": {},
     "output_type": "execute_result"
    }
   ],
   "source": [
    "df.columns.tolist().index(\"Instrument Num Type\")"
   ]
  },
  {
   "cell_type": "code",
   "execution_count": 60,
   "metadata": {},
   "outputs": [],
   "source": [
    "processed = process_report.apply_schemas(schemas, schema_positions, df)\n",
    "processed.DateCode = pd.to_datetime(processed.DateCode, format=\"%d%m%Y\")"
   ]
  },
  {
   "cell_type": "code",
   "execution_count": 61,
   "metadata": {},
   "outputs": [
    {
     "data": {
      "text/html": [
       "<div>\n",
       "<style scoped>\n",
       "    .dataframe tbody tr th:only-of-type {\n",
       "        vertical-align: middle;\n",
       "    }\n",
       "\n",
       "    .dataframe tbody tr th {\n",
       "        vertical-align: top;\n",
       "    }\n",
       "\n",
       "    .dataframe thead th {\n",
       "        text-align: right;\n",
       "    }\n",
       "</style>\n",
       "<table border=\"1\" class=\"dataframe\">\n",
       "  <thead>\n",
       "    <tr style=\"text-align: right;\">\n",
       "      <th></th>\n",
       "      <th>Fund Num</th>\n",
       "      <th>Fund Name</th>\n",
       "      <th>Instrument Name</th>\n",
       "      <th>Instrument Type Num</th>\n",
       "      <th>Instrument Num</th>\n",
       "      <th>Instrument Num Type</th>\n",
       "      <th>Nominal Value</th>\n",
       "      <th>Fair Value</th>\n",
       "      <th>Instrument Price</th>\n",
       "      <th>Fair Value FX</th>\n",
       "      <th>...</th>\n",
       "      <th>Accrued interest</th>\n",
       "      <th>TICKER</th>\n",
       "      <th>Country Num</th>\n",
       "      <th>Rating</th>\n",
       "      <th>Rating agency Nוum</th>\n",
       "      <th>Bank Num</th>\n",
       "      <th>DateCode</th>\n",
       "      <th>Row Num</th>\n",
       "      <th>Total Row</th>\n",
       "      <th>Manager Num</th>\n",
       "    </tr>\n",
       "  </thead>\n",
       "  <tbody>\n",
       "    <tr>\n",
       "      <th>0</th>\n",
       "      <td>5100946</td>\n",
       "      <td>אפסילון (4A)  יתר</td>\n",
       "      <td>המלט 1</td>\n",
       "      <td>מניה</td>\n",
       "      <td>1080324</td>\n",
       "      <td>מס' בורסה ת\"א</td>\n",
       "      <td>4600.0</td>\n",
       "      <td>402960.00</td>\n",
       "      <td>8760.0</td>\n",
       "      <td>402960.00</td>\n",
       "      <td>...</td>\n",
       "      <td>0.0</td>\n",
       "      <td>HAML</td>\n",
       "      <td>0</td>\n",
       "      <td></td>\n",
       "      <td>0</td>\n",
       "      <td>הבנק הבינלאומי הראשון לישראל בע\"מ</td>\n",
       "      <td>2018-01-31</td>\n",
       "      <td>1</td>\n",
       "      <td>2955</td>\n",
       "      <td>511576209</td>\n",
       "    </tr>\n",
       "    <tr>\n",
       "      <th>1</th>\n",
       "      <td>5100946</td>\n",
       "      <td>אפסילון (4A)  יתר</td>\n",
       "      <td>רימוני מר 1</td>\n",
       "      <td>מניה</td>\n",
       "      <td>1080456</td>\n",
       "      <td>מס' בורסה ת\"א</td>\n",
       "      <td>12181.0</td>\n",
       "      <td>767159.38</td>\n",
       "      <td>6298.0</td>\n",
       "      <td>767159.38</td>\n",
       "      <td>...</td>\n",
       "      <td>0.0</td>\n",
       "      <td>RIMO</td>\n",
       "      <td>ישראל</td>\n",
       "      <td></td>\n",
       "      <td>0</td>\n",
       "      <td>הבנק הבינלאומי הראשון לישראל בע\"מ</td>\n",
       "      <td>2018-01-31</td>\n",
       "      <td>2</td>\n",
       "      <td>2955</td>\n",
       "      <td>511576209</td>\n",
       "    </tr>\n",
       "    <tr>\n",
       "      <th>2</th>\n",
       "      <td>5100946</td>\n",
       "      <td>אפסילון (4A)  יתר</td>\n",
       "      <td>רקח 1</td>\n",
       "      <td>מניה</td>\n",
       "      <td>1081009</td>\n",
       "      <td>מס' בורסה ת\"א</td>\n",
       "      <td>5000.0</td>\n",
       "      <td>177000.00</td>\n",
       "      <td>3540.0</td>\n",
       "      <td>177000.00</td>\n",
       "      <td>...</td>\n",
       "      <td>0.0</td>\n",
       "      <td>REKA</td>\n",
       "      <td>ישראל</td>\n",
       "      <td></td>\n",
       "      <td>0</td>\n",
       "      <td>הבנק הבינלאומי הראשון לישראל בע\"מ</td>\n",
       "      <td>2018-01-31</td>\n",
       "      <td>3</td>\n",
       "      <td>2955</td>\n",
       "      <td>511576209</td>\n",
       "    </tr>\n",
       "    <tr>\n",
       "      <th>3</th>\n",
       "      <td>5100946</td>\n",
       "      <td>אפסילון (4A)  יתר</td>\n",
       "      <td>איסתא  1ש''ח</td>\n",
       "      <td>מניה</td>\n",
       "      <td>1081074</td>\n",
       "      <td>מס' בורסה ת\"א</td>\n",
       "      <td>2500.0</td>\n",
       "      <td>198225.00</td>\n",
       "      <td>7929.0</td>\n",
       "      <td>198225.00</td>\n",
       "      <td>...</td>\n",
       "      <td>0.0</td>\n",
       "      <td>ISTA</td>\n",
       "      <td>0</td>\n",
       "      <td></td>\n",
       "      <td>0</td>\n",
       "      <td>הבנק הבינלאומי הראשון לישראל בע\"מ</td>\n",
       "      <td>2018-01-31</td>\n",
       "      <td>4</td>\n",
       "      <td>2955</td>\n",
       "      <td>511576209</td>\n",
       "    </tr>\n",
       "    <tr>\n",
       "      <th>4</th>\n",
       "      <td>5100946</td>\n",
       "      <td>אפסילון (4A)  יתר</td>\n",
       "      <td>בית שמש  1ש''ח</td>\n",
       "      <td>מניה</td>\n",
       "      <td>1081561</td>\n",
       "      <td>מס' בורסה ת\"א</td>\n",
       "      <td>9389.0</td>\n",
       "      <td>807735.67</td>\n",
       "      <td>8603.0</td>\n",
       "      <td>807735.67</td>\n",
       "      <td>...</td>\n",
       "      <td>0.0</td>\n",
       "      <td>BSEN</td>\n",
       "      <td>ישראל</td>\n",
       "      <td></td>\n",
       "      <td>0</td>\n",
       "      <td>הבנק הבינלאומי הראשון לישראל בע\"מ</td>\n",
       "      <td>2018-01-31</td>\n",
       "      <td>5</td>\n",
       "      <td>2955</td>\n",
       "      <td>511576209</td>\n",
       "    </tr>\n",
       "  </tbody>\n",
       "</table>\n",
       "<p>5 rows × 28 columns</p>\n",
       "</div>"
      ],
      "text/plain": [
       "   Fund Num                  Fund Name  \\\n",
       "0   5100946  אפסילון (4A)  יתר           \n",
       "1   5100946  אפסילון (4A)  יתר           \n",
       "2   5100946  אפסילון (4A)  יתר           \n",
       "3   5100946  אפסילון (4A)  יתר           \n",
       "4   5100946  אפסילון (4A)  יתר           \n",
       "\n",
       "                            Instrument Name Instrument Type Num  \\\n",
       "0  המלט 1                                                  מניה   \n",
       "1  רימוני מר 1                                             מניה   \n",
       "2  רקח 1                                                   מניה   \n",
       "3  איסתא  1ש''ח                                            מניה   \n",
       "4  בית שמש  1ש''ח                                          מניה   \n",
       "\n",
       "  Instrument Num Instrument Num Type  Nominal Value   Fair Value  \\\n",
       "0        1080324       מס' בורסה ת\"א          4600.0   402960.00   \n",
       "1        1080456       מס' בורסה ת\"א         12181.0   767159.38   \n",
       "2        1081009       מס' בורסה ת\"א          5000.0   177000.00   \n",
       "3        1081074       מס' בורסה ת\"א          2500.0   198225.00   \n",
       "4        1081561       מס' בורסה ת\"א          9389.0   807735.67   \n",
       "\n",
       "   Instrument Price  Fair Value FX  ...  Accrued interest  \\\n",
       "0            8760.0      402960.00  ...               0.0   \n",
       "1            6298.0      767159.38  ...               0.0   \n",
       "2            3540.0      177000.00  ...               0.0   \n",
       "3            7929.0      198225.00  ...               0.0   \n",
       "4            8603.0      807735.67  ...               0.0   \n",
       "\n",
       "                   TICKER  Country Num  Rating  Rating agency Nוum  \\\n",
       "0  HAML                              0                           0   \n",
       "1  RIMO                          ישראל                           0   \n",
       "2  REKA                          ישראל                           0   \n",
       "3  ISTA                              0                           0   \n",
       "4  BSEN                          ישראל                           0   \n",
       "\n",
       "                            Bank Num   DateCode  Row Num  Total Row  \\\n",
       "0  הבנק הבינלאומי הראשון לישראל בע\"מ 2018-01-31        1       2955   \n",
       "1  הבנק הבינלאומי הראשון לישראל בע\"מ 2018-01-31        2       2955   \n",
       "2  הבנק הבינלאומי הראשון לישראל בע\"מ 2018-01-31        3       2955   \n",
       "3  הבנק הבינלאומי הראשון לישראל בע\"מ 2018-01-31        4       2955   \n",
       "4  הבנק הבינלאומי הראשון לישראל בע\"מ 2018-01-31        5       2955   \n",
       "\n",
       "  Manager Num  \n",
       "0   511576209  \n",
       "1   511576209  \n",
       "2   511576209  \n",
       "3   511576209  \n",
       "4   511576209  \n",
       "\n",
       "[5 rows x 28 columns]"
      ]
     },
     "execution_count": 61,
     "metadata": {},
     "output_type": "execute_result"
    }
   ],
   "source": [
    "processed.head()"
   ]
  },
  {
   "cell_type": "code",
   "execution_count": 62,
   "metadata": {},
   "outputs": [
    {
     "data": {
      "text/plain": [
       "Index(['Fund Num', 'Fund Name', 'Instrument Name', 'Instrument Type Num',\n",
       "       'Instrument Num', 'Instrument Num Type', 'Nominal Value ', 'Fair Value',\n",
       "       'Instrument Price', 'Fair Value FX', 'Instrument Rate',\n",
       "       'Lend for Short', 'Price Type', 'Market Num', 'Market Type',\n",
       "       'currency Num', 'Exchange rate\\nExchange rate\\n', 'Matur Bond',\n",
       "       'Accrued interest', 'TICKER', 'Country Num', 'Rating',\n",
       "       'Rating agency Nוum', 'Bank Num', 'DateCode', 'Row Num', 'Total Row',\n",
       "       'Manager Num'],\n",
       "      dtype='object')"
      ]
     },
     "execution_count": 62,
     "metadata": {},
     "output_type": "execute_result"
    }
   ],
   "source": [
    "processed.columns"
   ]
  }
 ],
 "metadata": {
  "kernelspec": {
   "display_name": "op",
   "language": "python",
   "name": "op"
  },
  "language_info": {
   "codemirror_mode": {
    "name": "ipython",
    "version": 3
   },
   "file_extension": ".py",
   "mimetype": "text/x-python",
   "name": "python",
   "nbconvert_exporter": "python",
   "pygments_lexer": "ipython3",
   "version": "3.7.4"
  }
 },
 "nbformat": 4,
 "nbformat_minor": 4
}
