{
 "cells": [
  {
   "cell_type": "code",
   "execution_count": 1,
   "metadata": {},
   "outputs": [],
   "source": [
    "%load_ext blackcellmagic\n",
    "%load_ext autoreload\n",
    "%autoreload 2"
   ]
  },
  {
   "cell_type": "markdown",
   "metadata": {},
   "source": [
    "First lets create the schema excel files from the pdf descriptions:"
   ]
  },
  {
   "cell_type": "code",
   "execution_count": 2,
   "metadata": {},
   "outputs": [],
   "source": [
    "from scripts.covert_reporting_structure_pdf_to_excel import main"
   ]
  },
  {
   "cell_type": "code",
   "execution_count": 3,
   "metadata": {},
   "outputs": [],
   "source": [
    "main(\"tmp/schemas.xlsx\")"
   ]
  },
  {
   "cell_type": "markdown",
   "metadata": {},
   "source": [
    "We can now explor the schemas"
   ]
  },
  {
   "cell_type": "code",
   "execution_count": 4,
   "metadata": {},
   "outputs": [],
   "source": [
    "from process_k203.process_report import get_schemas"
   ]
  },
  {
   "cell_type": "code",
   "execution_count": 5,
   "metadata": {},
   "outputs": [],
   "source": [
    "schemas = get_schemas(\"tmp/schemas.xlsx\")"
   ]
  },
  {
   "cell_type": "code",
   "execution_count": 6,
   "metadata": {},
   "outputs": [
    {
     "name": "stdout",
     "output_type": "stream",
     "text": [
      "schema_description\n",
      "assets\n",
      "info\n",
      "price\n",
      "id\n",
      "asset_country\n",
      "market_type\n",
      "currency\n",
      "rating_agency\n",
      "financial_institution\n",
      "anchor_interest\n",
      "anchor_interest_duration\n",
      "origin_country\n"
     ]
    }
   ],
   "source": [
    "print('\\n'.join(list(schemas.keys())))"
   ]
  },
  {
   "cell_type": "code",
   "execution_count": 7,
   "metadata": {},
   "outputs": [
    {
     "data": {
      "text/plain": [
       "מזהה נכס\n",
       "1             מניה\n",
       "3    יחידת השתתפות\n",
       "4       יחידת מו\"פ\n",
       "5           זכויות\n",
       "6       כתב אופציה\n",
       "Name: נכסים והתחייבויות, dtype: object"
      ]
     },
     "execution_count": 7,
     "metadata": {},
     "output_type": "execute_result"
    }
   ],
   "source": [
    "schemas[\"assets\"].head()"
   ]
  },
  {
   "cell_type": "markdown",
   "metadata": {},
   "source": [
    "Next we'll process raw data from Israel's Security Authority, apply the schemas and insert it into a database.\n",
    "download data from [here](https://drive.google.com/drive/folders/1lpCv88vC4h55F-vGN-SbkoiLdGQk-f4O)"
   ]
  },
  {
   "cell_type": "code",
   "execution_count": 8,
   "metadata": {},
   "outputs": [],
   "source": [
    "import zipfile\n",
    "import pandas as pd\n",
    "from tqdm.notebook import tqdm\n",
    "from joblib import parallel_backend, delayed, Parallel"
   ]
  },
  {
   "cell_type": "code",
   "execution_count": 9,
   "metadata": {},
   "outputs": [
    {
     "data": {
      "application/vnd.jupyter.widget-view+json": {
       "model_id": "4ccb621d272a43cbad58521d86e7b1d0",
       "version_major": 2,
       "version_minor": 0
      },
      "text/plain": [
       "HBox(children=(FloatProgress(value=0.0, max=38.0), HTML(value='')))"
      ]
     },
     "metadata": {},
     "output_type": "display_data"
    },
    {
     "name": "stdout",
     "output_type": "stream",
     "text": [
      "\n"
     ]
    }
   ],
   "source": [
    "with zipfile.ZipFile(\"tmp/MutualFund.zip\") as zipped:\n",
    "    files = [n for n in zipped.namelist() if n.endswith(\".xlsx\")]\n",
    "def send(excel_file):\n",
    "    with zipfile.ZipFile(\"tmp/MutualFund.zip\") as zipped:\n",
    "        with zipped.open(excel_file) as f:\n",
    "            return pd.read_excel(f)\n",
    "dfs = [send(f) for f in tqdm(files)]"
   ]
  },
  {
   "cell_type": "code",
   "execution_count": 10,
   "metadata": {},
   "outputs": [],
   "source": [
    "df = pd.concat(dfs, ignore_index=True)"
   ]
  },
  {
   "cell_type": "code",
   "execution_count": 11,
   "metadata": {},
   "outputs": [
    {
     "data": {
      "text/plain": [
       "(9371618, 28)"
      ]
     },
     "execution_count": 11,
     "metadata": {},
     "output_type": "execute_result"
    }
   ],
   "source": [
    "df.shape"
   ]
  },
  {
   "cell_type": "code",
   "execution_count": 12,
   "metadata": {},
   "outputs": [],
   "source": [
    "from process_k203.process_report import apply_schemas\n",
    "from process_k203.constants import SCHEMA_POSITIONS\n",
    "import dask.dataframe as dd"
   ]
  },
  {
   "cell_type": "code",
   "execution_count": 13,
   "metadata": {},
   "outputs": [],
   "source": [
    "df = dd.from_pandas(df, npartitions=16)"
   ]
  },
  {
   "cell_type": "code",
   "execution_count": null,
   "metadata": {},
   "outputs": [
    {
     "name": "stderr",
     "output_type": "stream",
     "text": [
      "c:\\users\\imri\\github\\open_pension\\data_science\\venv\\lib\\site-packages\\dask\\dataframe\\core.py:3020: UserWarning: \n",
      "You did not provide metadata, so Dask is running your function on a small dataset to guess output types. It is possible that Dask will guess incorrectly.\n",
      "To provide an explicit output types or to silence this message, please provide the `meta=` keyword, as described in the map or apply function that you are using.\n",
      "  Before: .apply(func)\n",
      "  After:  .apply(func, meta=('Instrument Type Num', 'object'))\n",
      "\n",
      "  warnings.warn(meta_warning(meta))\n",
      "c:\\users\\imri\\github\\open_pension\\data_science\\venv\\lib\\site-packages\\dask\\dataframe\\core.py:3020: UserWarning: \n",
      "You did not provide metadata, so Dask is running your function on a small dataset to guess output types. It is possible that Dask will guess incorrectly.\n",
      "To provide an explicit output types or to silence this message, please provide the `meta=` keyword, as described in the map or apply function that you are using.\n",
      "  Before: .apply(func)\n",
      "  After:  .apply(func, meta=('Instrument Num Type', 'object'))\n",
      "\n",
      "  warnings.warn(meta_warning(meta))\n",
      "c:\\users\\imri\\github\\open_pension\\data_science\\venv\\lib\\site-packages\\dask\\dataframe\\core.py:3020: UserWarning: \n",
      "You did not provide metadata, so Dask is running your function on a small dataset to guess output types. It is possible that Dask will guess incorrectly.\n",
      "To provide an explicit output types or to silence this message, please provide the `meta=` keyword, as described in the map or apply function that you are using.\n",
      "  Before: .apply(func)\n",
      "  After:  .apply(func, meta=('Country Num', 'object'))\n",
      "\n",
      "  warnings.warn(meta_warning(meta))\n",
      "c:\\users\\imri\\github\\open_pension\\data_science\\venv\\lib\\site-packages\\dask\\dataframe\\core.py:3020: UserWarning: \n",
      "You did not provide metadata, so Dask is running your function on a small dataset to guess output types. It is possible that Dask will guess incorrectly.\n",
      "To provide an explicit output types or to silence this message, please provide the `meta=` keyword, as described in the map or apply function that you are using.\n",
      "  Before: .apply(func)\n",
      "  After:  .apply(func, meta=('Rating agency Nוum', 'object'))\n",
      "\n",
      "  warnings.warn(meta_warning(meta))\n",
      "c:\\users\\imri\\github\\open_pension\\data_science\\venv\\lib\\site-packages\\dask\\dataframe\\core.py:3020: UserWarning: \n",
      "You did not provide metadata, so Dask is running your function on a small dataset to guess output types. It is possible that Dask will guess incorrectly.\n",
      "To provide an explicit output types or to silence this message, please provide the `meta=` keyword, as described in the map or apply function that you are using.\n",
      "  Before: .apply(func)\n",
      "  After:  .apply(func, meta=('Bank Num', 'object'))\n",
      "\n",
      "  warnings.warn(meta_warning(meta))\n"
     ]
    }
   ],
   "source": [
    "processed = apply_schemas(schemas, SCHEMA_POSITIONS, df).compute()"
   ]
  },
  {
   "cell_type": "code",
   "execution_count": null,
   "metadata": {},
   "outputs": [],
   "source": [
    "from sqlalchemy import create_engine"
   ]
  },
  {
   "cell_type": "code",
   "execution_count": null,
   "metadata": {},
   "outputs": [],
   "source": [
    "engine = create_engine(\"sqlite:///db.sqlite\")\n",
    "processed.to_sql(\"k203\", index=False, con=engine)"
   ]
  }
 ],
 "metadata": {
  "kernelspec": {
   "display_name": "op",
   "language": "python",
   "name": "op"
  },
  "language_info": {
   "codemirror_mode": {
    "name": "ipython",
    "version": 3
   },
   "file_extension": ".py",
   "mimetype": "text/x-python",
   "name": "python",
   "nbconvert_exporter": "python",
   "pygments_lexer": "ipython3",
   "version": "3.7.4"
  }
 },
 "nbformat": 4,
 "nbformat_minor": 4
}
